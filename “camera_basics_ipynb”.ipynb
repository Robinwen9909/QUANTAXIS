{
  "nbformat": 4,
  "nbformat_minor": 0,
  "metadata": {
    "colab": {
      "name": "“camera_basics.ipynb”的副本",
      "provenance": [],
      "collapsed_sections": [],
      "include_colab_link": true
    },
    "kernelspec": {
      "name": "python3",
      "display_name": "Python 3"
    },
    "language_info": {
      "name": "python"
    }
  },
  "cells": [
    {
      "cell_type": "markdown",
      "metadata": {
        "id": "view-in-github",
        "colab_type": "text"
      },
      "source": [
        "<a href=\"https://colab.research.google.com/github/Robinwen9909/QUANTAXIS/blob/master/%E2%80%9Ccamera_basics_ipynb%E2%80%9D.ipynb\" target=\"_parent\"><img src=\"https://colab.research.google.com/assets/colab-badge.svg\" alt=\"Open In Colab\"/></a>"
      ]
    },
    {
      "cell_type": "markdown",
      "metadata": {
        "id": "cftgbJrGQ1_C"
      },
      "source": [
        "<!--NOTEBOOK_HEADER-->\n",
        "This notebook contains material from the textbook [Multiple View Geometry in computer Vision](https://books.google.com.sg/books/about/Multiple_View_Geometry_in_Computer_Visio.html?id=si3R3Pfa98QC&source=kp_book_description&redir_esc=y) and lecture notes [Standford CS231A ](http://web.stanford.edu/class/cs231a/);\n",
        "\n",
        "Written by Ding Man."
      ]
    },
    {
      "cell_type": "markdown",
      "metadata": {
        "id": "kqn7Xg2yfMvV"
      },
      "source": [
        "**Please install the necessary packages to run the code**"
      ]
    },
    {
      "cell_type": "code",
      "metadata": {
        "id": "NQsMXzGrwvGA",
        "colab": {
          "base_uri": "https://localhost:8080/"
        },
        "outputId": "417e536e-2b4f-429b-da46-e046893d3bde"
      },
      "source": [
        "%pip install scipy numpy opencv-python tqdm "
      ],
      "execution_count": null,
      "outputs": [
        {
          "output_type": "stream",
          "name": "stdout",
          "text": [
            "Looking in indexes: https://pypi.org/simple, https://us-python.pkg.dev/colab-wheels/public/simple/\n",
            "Requirement already satisfied: scipy in /usr/local/lib/python3.7/dist-packages (1.7.3)\n",
            "Requirement already satisfied: numpy in /usr/local/lib/python3.7/dist-packages (1.21.6)\n",
            "Requirement already satisfied: opencv-python in /usr/local/lib/python3.7/dist-packages (4.6.0.66)\n",
            "Requirement already satisfied: tqdm in /usr/local/lib/python3.7/dist-packages (4.64.0)\n"
          ]
        }
      ]
    },
    {
      "cell_type": "markdown",
      "metadata": {
        "id": "rMFR32ZRwwIT"
      },
      "source": [
        "# Camera basics code demo"
      ]
    },
    {
      "cell_type": "markdown",
      "metadata": {
        "id": "-xLbb4I5Xduh"
      },
      "source": [
        "##Table of contents:\n",
        "---\n",
        "**1.   Camera basics**\n",
        "\n",
        "\n"
      ]
    },
    {
      "cell_type": "markdown",
      "metadata": {
        "id": "UdoFo3USPRIJ"
      },
      "source": [
        "## 1 Camera basics\n",
        "\n",
        "\n",
        "---\n",
        "\n",
        "\n",
        "**1.1 Camera Matrix Model**\n",
        "\n",
        "**1.2 Camera calibration**\n",
        "\n",
        "**1.3 Camera Distortion**\n",
        "\n",
        "**1.4 Code demo 1: Camera calibration for distortion correction**\n",
        "\n"
      ]
    },
    {
      "cell_type": "markdown",
      "metadata": {
        "id": "lBQp5lUeVhfM"
      },
      "source": [
        "### ***1.1 Camera Matrix Model***\n",
        "\n",
        "Camera Matrix Model describes a set of important parameters that affect how a **world point $P$ is mapped to image coordinates $P'$**.\n",
        "\n",
        "\n",
        "\n",
        "\n",
        "\n",
        "\n",
        "\n"
      ]
    },
    {
      "cell_type": "markdown",
      "metadata": {
        "id": "1A4exQsK6Q9B"
      },
      "source": [
        "\n",
        "#### ***1.1.1 Intrinsic parameters***\n",
        "\n",
        "*   Translation vector $[c_x\\ c_y]^T$: describe how \n",
        "image plane and digital image coordinates can differ by a translation\n",
        "*   Change of units $k$ and $l$: digital images and image plane are represented in different units, one in pixels and one in physical measurements\n",
        "\n",
        "*   Skewness $\\theta$: caused by sensor manufacturing errors\n",
        "*   [Distortion](https://en.wikipedia.org/wiki/Distortion_%28optics%29) (ignore for now, cover in 1.3)\n",
        "\n",
        "Make use of [Homogeneous coordinates](https://en.wikipedia.org/wiki/Homogeneous_coordinates#:~:text=Any%20point%20in%20the%20projective,multiplied%20by%20a%20common%20factor), a point in 3D space and its image coordinates by a matrix vector relationship can be expressed as:\n",
        "$$P' =\n",
        "\\begin{bmatrix}\n",
        "\\alpha & -\\alpha\\cot\\theta & c_x\\\\\n",
        "0 & \\frac{\\beta}{\\sin\\theta} & c_y\\\\\n",
        "0 & 0 & 1\n",
        "\\end{bmatrix}\\begin{bmatrix}\n",
        "I & 0\\\\\n",
        "\\end{bmatrix}P = K\\begin{bmatrix}\n",
        "I & 0\\\\\n",
        "\\end{bmatrix}P$$\n",
        "\n",
        "The matrix $K$ is often referred to as the **camera matrix**\n",
        "$$ K = \\begin{bmatrix}\n",
        "x'\\\\y'\\\\z\\\\\n",
        "\\end{bmatrix}=\\begin{bmatrix}\n",
        "\\alpha & -\\alpha\\cot\\theta & c_x\\\\\n",
        "0 & \\frac{\\beta}{\\sin\\theta} & c_y\\\\\n",
        "0 & 0 & 1\n",
        "\\end{bmatrix}$$\n",
        "\n",
        "Camera matrix $K$ has **5 degrees of freedom**: 2 for focal length, 2 for offset, and 1 for skewness. (assume no distortion). $K$ is unique and inherent to a given camera."
      ]
    },
    {
      "cell_type": "markdown",
      "metadata": {
        "id": "Ip-Q9shO6GS8"
      },
      "source": [
        "#### ***1.1.2 Extrinsic Parameters***\n",
        "The above mapping is between a point $P'$ in the **3D camera reference system** to a point $P$ in the **2D image plane**. However, the information about the 3D world may be available in a different coordinate system. Hence, additional transformation captured by **rotation matrix $R$** and **translation vector $T$** is introduced to relate points from the **world reference system** to the **3D camera reference system**\n",
        "\n",
        "Given a point in a world reference system $P_w$, we can compute its camera coordinates:\n",
        "$$P'=K\\begin{bmatrix}\n",
        "R & T\\\\\n",
        "\\end{bmatrix}P_w=MP_w$$\n",
        "\n",
        "Matrices $R$ and $T$ are known as the **extrinsic parameters** as they do not depend on the camera.\n",
        "\n",
        "With extrinsic and intrinsic parameters $M$, mapping from a 3D point P in an arbitrary world\n",
        "reference system to the image plane can hence be achieved.\n",
        "\n",
        "In total, the projection matrix $M$ has **$11$ degrees of freedom**: 5 from the intrinsic camera matrix,\n",
        "3 from extrinsic rotation, and 3 from extrinsic translation.\n"
      ]
    },
    {
      "cell_type": "markdown",
      "metadata": {
        "id": "twuoHZVXAfJI"
      },
      "source": [
        "### ***1.2 Camera calibration***\n",
        "**Purpose:** Estimate the extrinsic and intrinsic camera parameters.\n",
        "\n",
        "**How:** Solve for the intrinsic camera matrix $K$ and\n",
        "the extrinsic parameters $R, T$\n",
        "\n",
        "**Setup:** Provide calibration rig which consists of a simple pattern, $i.e.$ checkerboard) with known dimensions. the rig defines our world reference frame with origin $O_w$ and axes $i_w,\\ j_w,\\ k_w$. From the rig's known pattern, we have known points\n",
        "in the world reference frame $P_1,..., P_n$. Finding these points in the image we\n",
        "take from the camera gives corresponding points in the image $p_1,..., p_n$\n",
        "<figure>\n",
        "<img src='https://raw.githubusercontent.com/DINGMAN17/Learning_material/main/3D_recon/calib_setup.PNG' alt=\"Setup\">\n",
        "<figcaption>Figure1: The setup of an example calibration rig</figcaption></center>\n",
        "</figure>\n",
        "\n",
        "Hence, a linear system of equations from $n$ correspondences can be set up such that for each correspondence $P_i$, $p_i$ and camera matrix $M$ whose rows are $m_1,m_2,m_3$:\n",
        "\n",
        "$$p_i=\\begin{bmatrix}\n",
        "u_i \\\\ v_i\\\\\n",
        "\\end{bmatrix}=MP_i=\\begin{bmatrix}\n",
        "\\frac{m_1p_i}{m_3p_i} \\\\ \\frac{m_2p_i}{m_3p_i}\\\\\n",
        "\\end{bmatrix}$$\n",
        "\n",
        "which is equivalent of solving a pair of equations:\n",
        "$$u_i(m_3P_i)-m_1P_i=0$$\n",
        "$$v_i(m_3P_i)-m_2P_i=0$$\n",
        "\n",
        "Here, there are $2$ constraints for solving the unknown parameters contained in $m$. From 1.1.2, we know that the **camera matrix $M$ has 11 unknown parameters**. This suggests that we need **at least $6$ correspondences** to solve this.\n",
        "\n",
        "**Note:** Not all sets of $n$ correspondences will work. For example, if the points $Pi$ lie on the same plane, then the system will not be able to be solved. These unsolvable configurations of points are known as **degenerate configurations**.\n",
        "\n",
        "In the real world applications (such as the demo in 1.4), we often use more than 6 points as measurements are often noisy. When $2n > 11$, the above homogeneous linear system is overdetermined. Therefore, it can be treated as a minimization problem and can be solved using [singular value decomposition](https://en.wikipedia.org/wiki/Singular_value_decomposition)."
      ]
    },
    {
      "cell_type": "markdown",
      "metadata": {
        "id": "qIjcQ3O0BeoZ"
      },
      "source": [
        "### **1.3 Camera distortion**\n",
        "\n",
        "So far, we have been working with ideal lenses which are free from any distortion. However, as seen before, real lenses can deviate from rectilinear projection, which require more advanced methods to un-distort the images. \n",
        "\n",
        "Two major kinds of distortion are **radial distortion** and **tangential distortion**.\n",
        "\n",
        "Radial distortion causes straight lines to appear curved. Radial distortion becomes larger the farther points are from the center of the image, shown on the left. While tangential distortion occurs because the image-taking lense is not aligned perfectly parallel to the imaging plane. So, some areas in the image may look nearer than expected.\n",
        "\n",
        "<figure>\n",
        "<img src='https://raw.githubusercontent.com/DINGMAN17/Learning_material/main/3D_recon/distortion.jpg' alt=\"Distortion illustration\">\n",
        "<figcaption>Figure2: radial distortion and tangential distortion</figcaption></center>\n",
        "</figure>\n",
        "\n",
        "- Radial distortion can be represented as follows:\n",
        "$$x_{distorted}=x(1+k_1r^2+k_2r^4+k_3r^6)$$\n",
        "$$y_{distorted}=y(1+k_1r^2+k_2r^4+k_3r^6)$$\n",
        "\n",
        "- Tangential distortion can be represented as follows:\n",
        "$$x_{distorted}=x+[2p_1xy+p_2(r^2+2x^2)]$$\n",
        "$$y_{distorted}=y+[2p_2xy+p_1(r^2+2y^2)]$$\n",
        "\n",
        "In total, distortion coefficients consist of five unknown parameters:\n",
        "$$Distortion\\ coefficients=(k_1\\ k_2\\ k_3\\ p_1\\ p_2)$$\n",
        "\n",
        "In the next section, we will see how to find the distortion coefficients and correct the distortion using some sample images of a well defined pattern (e.g. a chess board).\n"
      ]
    },
    {
      "cell_type": "markdown",
      "metadata": {
        "id": "_n7VieRsBtQm"
      },
      "source": [
        "### **1.4 Code demo: Camera calibration for distortion correction**\n",
        "\n",
        "This code demo is written in [Python](https://www.python.org/) which uses pre-defined functions from [OpenCV](https://opencv.org/) library. The reference can be found [here](https://docs.opencv.org/master/dc/dbb/tutorial_py_calibration.html). \n",
        "\n",
        "The distorted images used in this demo were taken by a thermal-RGB camera for drone operations, the detail specs can be found [here](https://www.dji.com/sg/zenmuse-xt2). We will only focus on RGB images in this task. \n",
        "\n",
        "<figure>\n",
        "<img src='https://raw.githubusercontent.com/DINGMAN17/Learning_material/main/3D_recon//sample_rgb_distort.jpg' alt=\"sample distorted rgb image\">\n",
        "<figcaption>Figure2: Sample distorted rgb image</figcaption></center>\n",
        "</figure>\n",
        "\n",
        "\n",
        "\n"
      ]
    },
    {
      "cell_type": "markdown",
      "metadata": {
        "id": "k3J9wi4TU7ri"
      },
      "source": [
        "Import packages"
      ]
    },
    {
      "cell_type": "code",
      "metadata": {
        "id": "91VSTMNKUfQP"
      },
      "source": [
        "import os\n",
        "import glob\n",
        "import tqdm\n",
        "import cv2 as cv\n",
        "import numpy as np"
      ],
      "execution_count": null,
      "outputs": []
    },
    {
      "cell_type": "markdown",
      "metadata": {
        "id": "9jHIpPSwtetG"
      },
      "source": [
        "A function `get_camera_params` has been written for you to execute the above steps altogether. Instead of inputing just one image, we will use 3 RGB raw images inside folder `rgb_raw` to get a better estimation of camera parameters. \n",
        "\n",
        "Run the two code cells below. Note that it takes roughly 5 mins to complete the process. \n",
        "\n",
        "This function does the following:\n",
        "\n",
        "*   Prepare 3D real world points (object points) and the corresponding 2D coordinates (image points) of these points in each image by finding pattern in chess board using [`cv.findChessboardCorners()`](https://docs.opencv.org/master/d9/d0c/group__calib3d.html#ga93efa9b0aa890de240ca32b11253dd4a)\n",
        "\n",
        "*   Increase the accuracy of the points using [`cv.cornerSubPix()`](https://docs.opencv.org/master/dd/d1a/group__imgproc__feature.html#ga354e0d7c86d0d9da75de9b9701a9a87e) and draw the pattern using [`cv.drawChessboardCorners()`](https://docs.opencv.org/master/d9/d0c/group__calib3d.html#ga6a10b0bb120c4907e5eabbcd22319022).\n",
        "*   Calibrate the camera using [`cv.calibrateCamera()`](https://docs.opencv.org/master/d9/d0c/group__calib3d.html#ga3207604e4b1a1758aa66acb6ed5aa65d) which returns the camera matrix $K$, distortion coefficients, rotation and translation vectors $R, T$\n",
        "*   Calculate re-projection error which gives a good estimation of how exact the found parameters are. This is done throught transforming the object point to image point using [`cv.projectPoints()`](https://docs.opencv.org/master/d9/d0c/group__calib3d.html#ga1019495a2c8d1743ed5cc23fa0daff8c) and calculate the absolute norm between the transformation and the corner finding algorithm.\n",
        "\n"
      ]
    },
    {
      "cell_type": "code",
      "metadata": {
        "id": "2vBAFskaVCCR"
      },
      "source": [
        "def get_camera_params(number_rows: int,number_cols: int,input_folder: str):\n",
        "    '''\n",
        "    get camera parameters based on a set of chessboard images (>10 images)\n",
        "\n",
        "    Parameters\n",
        "    ----------\n",
        "    number_rows, number_cols : int, point number of rows/columns of chessboard\n",
        "    input_folder : str\n",
        "    '''\n",
        "    # findChessBoard flags\n",
        "    find_flags = cv.CALIB_CB_ADAPTIVE_THRESH + cv.CALIB_CB_NORMALIZE_IMAGE + \\\n",
        "    \t\t\t        cv.CALIB_CB_FILTER_QUADS + cv.CALIB_CB_FAST_CHECK\n",
        "       \n",
        "    # Define termination criteria for corner finding algorithm\n",
        "    criteria = (cv.TERM_CRITERIA_EPS + cv.TERM_CRITERIA_MAX_ITER, 30, 0.001)\n",
        "       \n",
        "    # prepare object points, like (0,0,0), (1,0,0), (2,0,0) ....,(6,5,0)\n",
        "    objp = np.zeros((number_cols*number_rows, 3), np.float32)\n",
        "    objp[:,:2] = np.mgrid[0:number_rows, 0:number_cols].T.reshape(-1,2)\n",
        "    \n",
        "    objpoints = [] # 3d point in real world space\n",
        "    imgpoints = [] # 2d points in image plane.\n",
        "    \n",
        "    # read images\n",
        "    images = glob.glob(os.path.join(input_folder, '*.jpg'))+ \\\n",
        "              glob.glob(os.path.join(input_folder, '*.JPG'))\n",
        "\n",
        "    fail_all = True\n",
        "    for fname in tqdm.tqdm(images):\n",
        "  \n",
        "        img = cv.imread(fname)\n",
        "        gray = cv.cvtColor(img, cv.COLOR_BGR2GRAY)    \n",
        "\n",
        "        # Find the chess board corners\n",
        "        ret,corners = cv.findChessboardCorners(gray,(number_rows,number_cols),\n",
        "                                               find_flags)\n",
        "    \n",
        "        # If found, add object points, image points (after refining them)    \n",
        "        if ret == True:\n",
        "            fail_all = False\n",
        "            objpoints.append(objp)\n",
        "            # improve accuracy\n",
        "            corners2 = cv.cornerSubPix(gray,corners,(11,11),(-1,-1),criteria)\n",
        "            imgpoints.append(corners2)\n",
        "            \n",
        "            # Draw the corners \n",
        "            cv.drawChessboardCorners(img,(number_rows,number_cols),corners2,ret)\n",
        "\n",
        "            # save images with corner points\n",
        "            raw_img = os.path.split(fname)     \n",
        "            img_name = 'draw_'+raw_img[-1]   \n",
        "            cv.imwrite(os.path.join(input_folder, img_name), img)\n",
        "           \n",
        "            # display succeed or fail to find corners\n",
        "            print(fname, ': succeed to find corner')\n",
        "        else:\n",
        "            print(fname, ': fail')\n",
        "        \n",
        "    # Calibration camera to find intrinsic, extrinsic parameters\n",
        "    if fail_all == False:\n",
        "        imageSize = gray.shape[::-1]\n",
        "        err,KK,distCoeffs,rvecs,tvecs = cv.calibrateCamera(objpoints,imgpoints,\n",
        "                                                           imageSize,None,None)\n",
        "\n",
        "        # Calculate re-projection error\n",
        "        total_error = 0\n",
        "        for i in range(len(objpoints)):\n",
        "            imgpoints2, _ = cv.projectPoints(objpoints[i], rvecs[i],\n",
        "                                             tvecs[i], KK, distCoeffs)\n",
        "            error = cv.norm(imgpoints[i],imgpoints2,cv.NORM_L2)/len(imgpoints2)\n",
        "            total_error += error\n",
        "        mean_err = total_error/len(objpoints)\n",
        "        return mean_err, KK, distCoeffs, rvecs, tvecs\n",
        "    else:\n",
        "        return"
      ],
      "execution_count": null,
      "outputs": []
    },
    {
      "cell_type": "markdown",
      "source": [
        "**TO DO:** Upload the sample image folder *rgb_raw* to the Files session. Run the cell below. \n",
        "\n",
        "After execution, check the same folder. Open the images with name \"draw_*\", you can observe the detected chessboard corners. "
      ],
      "metadata": {
        "id": "-3a49S6Ld20b"
      }
    },
    {
      "cell_type": "code",
      "source": [
        "image_folder = \"/content/rgb_raw\"\n",
        "rows = 9\n",
        "columns = 7\n",
        "err,K,distCoeffs,rvecs,tvecs = get_camera_params(rows, columns, image_folder)"
      ],
      "metadata": {
        "colab": {
          "base_uri": "https://localhost:8080/"
        },
        "id": "wv0onQj6CEOs",
        "outputId": "ef454795-9de8-4131-877e-5e2bbf426dfb"
      },
      "execution_count": null,
      "outputs": [
        {
          "output_type": "stream",
          "name": "stderr",
          "text": [
            " 33%|███▎      | 1/3 [00:01<00:02,  1.08s/it]"
          ]
        },
        {
          "output_type": "stream",
          "name": "stdout",
          "text": [
            "/content/rgb_raw/DJI_0036.jpg : succeed to find corner\n"
          ]
        },
        {
          "output_type": "stream",
          "name": "stderr",
          "text": [
            "\r 67%|██████▋   | 2/3 [00:01<00:00,  1.34it/s]"
          ]
        },
        {
          "output_type": "stream",
          "name": "stdout",
          "text": [
            "/content/rgb_raw/DJI_0042.jpg : succeed to find corner\n"
          ]
        },
        {
          "output_type": "stream",
          "name": "stderr",
          "text": [
            "100%|██████████| 3/3 [00:30<00:00, 10.20s/it]"
          ]
        },
        {
          "output_type": "stream",
          "name": "stdout",
          "text": [
            "/content/rgb_raw/DJI_0038.jpg : succeed to find corner\n"
          ]
        },
        {
          "output_type": "stream",
          "name": "stderr",
          "text": [
            "\n"
          ]
        }
      ]
    },
    {
      "cell_type": "code",
      "metadata": {
        "colab": {
          "base_uri": "https://localhost:8080/"
        },
        "id": "znc9TtIHhbYI",
        "outputId": "edb3d0b5-da81-4be5-9fa6-95711ba7017a"
      },
      "source": [
        "print(\"Mean re-projection error:\", err)\n",
        "print(\"----------------------------------------------------------\")\n",
        "print(\"Camera matrix: \", K)\n",
        "print(\"----------------------------------------------------------\")\n",
        "print(\"Distortion coefficients: \", distCoeffs)\n",
        "print(\"----------------------------------------------------------\")\n",
        "print(\"Rotation matrix\", rvecs)\n",
        "print(\"----------------------------------------------------------\")\n",
        "print(\"Translation matrix\", tvecs)"
      ],
      "execution_count": null,
      "outputs": [
        {
          "output_type": "stream",
          "name": "stdout",
          "text": [
            "Mean re-projection error: 0.12223989083878928\n",
            "----------------------------------------------------------\n",
            "Camera matrix:  [[1.71329380e+03 0.00000000e+00 1.93968085e+03]\n",
            " [0.00000000e+00 1.70873472e+03 1.61324143e+03]\n",
            " [0.00000000e+00 0.00000000e+00 1.00000000e+00]]\n",
            "----------------------------------------------------------\n",
            "Distortion coefficients:  [[-0.06274633  0.0047193  -0.00281447 -0.00221993 -0.00010191]]\n",
            "----------------------------------------------------------\n",
            "Rotation matrix (array([[0.0249691 ],\n",
            "       [0.02844343],\n",
            "       [1.59404469]]), array([[-0.0588217 ],\n",
            "       [ 0.06098872],\n",
            "       [ 2.87823615]]), array([[0.03187022],\n",
            "       [0.03462531],\n",
            "       [1.58949149]]))\n",
            "----------------------------------------------------------\n",
            "Translation matrix (array([[ 7.92215584],\n",
            "       [-5.06001038],\n",
            "       [ 7.8458748 ]]), array([[ 9.4203175 ],\n",
            "       [-0.69900003],\n",
            "       [ 8.1042969 ]]), array([[ 9.35499736],\n",
            "       [-4.7816685 ],\n",
            "       [ 7.78533678]]))\n"
          ]
        }
      ]
    },
    {
      "cell_type": "markdown",
      "metadata": {
        "id": "3JD-aKWGjOL-"
      },
      "source": [
        "**Add-on challenge:** It is possible to calibrate thermal camera as well using a spcially fabricated chessboard made of aluminium foil. Unlike RGB images, image pre-processing is required to extract the temperature and to set thresholds for the thermal images, as shown below. I have provided a folder named `IR_raw` with 12 pre-processed thermal images. See if you can calibrate the thermal camera by running the function `get_camera_params`. *Hint*: change the size of the chessboard. \n",
        "\n",
        "<img src='https://raw.githubusercontent.com/DINGMAN17/Learning_material/main/3D_recon/sample_thermal_distort.JPG' width=\"425\"/> <img src='https://raw.githubusercontent.com/DINGMAN17/Learning_material/main/3D_recon/sample_thermal_theshold.JPG' width=\"425\"/> \n",
        "\n"
      ]
    },
    {
      "cell_type": "markdown",
      "metadata": {
        "id": "M5T569b5jtfH"
      },
      "source": [
        "Instruction: fill in the correct value for the two variables `number_rows` and `number_cols`. Uncomment and run the cell below. You will be able to get the parameters for the thermal camera. "
      ]
    },
    {
      "cell_type": "code",
      "metadata": {
        "colab": {
          "base_uri": "https://localhost:8080/"
        },
        "id": "S2nODFurjScB",
        "outputId": "4930ba5e-c637-42f2-efcd-f7a576794931"
      },
      "source": [
        "number_rows = 5 \n",
        "number_cols = 4\n",
        "input_folder = '/content/ir_raw'\n",
        "err,K,distCoeffs,rvecs,tvecs = get_camera_params(number_rows,number_cols,input_folder)"
      ],
      "execution_count": null,
      "outputs": [
        {
          "output_type": "stream",
          "name": "stderr",
          "text": [
            " 12%|█▎        | 1/8 [00:00<00:00,  8.82it/s]"
          ]
        },
        {
          "output_type": "stream",
          "name": "stdout",
          "text": [
            "/content/ir_raw/DJI_0425_R_thermal_gray_r.JPG : succeed to find corner\n"
          ]
        },
        {
          "output_type": "stream",
          "name": "stderr",
          "text": [
            " 38%|███▊      | 3/8 [00:00<00:01,  4.56it/s]"
          ]
        },
        {
          "output_type": "stream",
          "name": "stdout",
          "text": [
            "/content/ir_raw/DJI_0427_R_thermal_gray_r.JPG : fail\n",
            "/content/ir_raw/DJI_0367_R_thermal_gray_r.JPG : succeed to find corner\n"
          ]
        },
        {
          "output_type": "stream",
          "name": "stderr",
          "text": [
            "\r 50%|█████     | 4/8 [00:00<00:00,  5.30it/s]"
          ]
        },
        {
          "output_type": "stream",
          "name": "stdout",
          "text": [
            "/content/ir_raw/DJI_0375_R_thermal_gray_r.JPG : succeed to find corner\n",
            "/content/ir_raw/DJI_0699_R_thermal_gray.JPG : succeed to find corner\n"
          ]
        },
        {
          "output_type": "stream",
          "name": "stderr",
          "text": [
            " 88%|████████▊ | 7/8 [00:01<00:00,  5.02it/s]"
          ]
        },
        {
          "output_type": "stream",
          "name": "stdout",
          "text": [
            "/content/ir_raw/DJI_0363_R_thermal_gray_r.JPG : fail\n",
            "/content/ir_raw/DJI_0199_R_thermal_gray.JPG : fail\n"
          ]
        },
        {
          "output_type": "stream",
          "name": "stderr",
          "text": [
            "100%|██████████| 8/8 [00:01<00:00,  4.46it/s]"
          ]
        },
        {
          "output_type": "stream",
          "name": "stdout",
          "text": [
            "/content/ir_raw/DJI_0407_R_thermal_gray_r.JPG : fail\n"
          ]
        },
        {
          "output_type": "stream",
          "name": "stderr",
          "text": [
            "\n"
          ]
        }
      ]
    },
    {
      "cell_type": "code",
      "metadata": {
        "id": "DRb1YGX_kaLT",
        "outputId": "9a6ec446-27c4-461f-843a-a50dbc9f625d",
        "colab": {
          "base_uri": "https://localhost:8080/"
        }
      },
      "source": [
        "#if you are interested to check out the camera parameters, uncomment the parameters to print them out.\n",
        "\n",
        "print(\"Re-projection error:\", err)\n",
        "print(\"Camera matrix: \", K)\n",
        "print(\"Distortion coefficients: \", distCoeffs)\n",
        "print(\"Rotation matrix\", rvecs)\n",
        "print(\"Translation matrix\", tvecs)"
      ],
      "execution_count": null,
      "outputs": [
        {
          "output_type": "stream",
          "name": "stdout",
          "text": [
            "Re-projection error: 0.10474368517916596\n",
            "Camera matrix:  [[1.16103201e+03 0.00000000e+00 3.51533918e+02]\n",
            " [0.00000000e+00 1.17431329e+03 2.44979718e+02]\n",
            " [0.00000000e+00 0.00000000e+00 1.00000000e+00]]\n",
            "Distortion coefficients:  [[-5.61890291e-01  4.93011749e+01 -1.22900969e-02  2.16887960e-02\n",
            "  -7.20001064e+02]]\n",
            "Rotation matrix (array([[ 0.48554362],\n",
            "       [-0.04220577],\n",
            "       [-0.0604111 ]]), array([[ 0.65784413],\n",
            "       [-0.03886907],\n",
            "       [-0.08328889]]), array([[ 0.65850537],\n",
            "       [-0.05847263],\n",
            "       [-0.03006971]]), array([[-0.95920619],\n",
            "       [-0.09938894],\n",
            "       [-0.14894696]]))\n",
            "Translation matrix (array([[-1.67091389],\n",
            "       [ 1.71468565],\n",
            "       [23.84734057]]), array([[-0.73132156],\n",
            "       [-2.67497355],\n",
            "       [22.33402575]]), array([[-3.21012088],\n",
            "       [-2.75250986],\n",
            "       [22.38738669]]), array([[-3.45976145],\n",
            "       [ 0.35016234],\n",
            "       [21.57875381]]))\n"
          ]
        }
      ]
    },
    {
      "cell_type": "markdown",
      "source": [
        "**Your turn:** \n",
        "\n",
        "Previously I have provided the images for you to play around with the code. Now it's your turn to take the images of chessboard!\n",
        "\n",
        "Before rushing to the chessboard, have you thought about the questions below?\n",
        "\n",
        "1.   *How many images shall I take?*\n",
        "2.   *How to take the images?*\n",
        "3.   *What are the factors I need to consider when taking the images? (angle of the chessboard? contrast?...)*\n",
        "4.   *Anything else?*\n",
        "\n",
        "\n",
        "\n",
        "\n",
        "\n",
        "\n"
      ],
      "metadata": {
        "id": "Leun_oH38Wi7"
      }
    },
    {
      "cell_type": "code",
      "source": [
        "image_folder = \"/content/WeTeam\" \n",
        "err, K, distCoeffs, rvecs, tvecs = get_camera_params(9,7, image_folder)\n",
        "print(\"Re-projection error:\", err)\n",
        "print(\"Camera matrix: \", K)\n",
        "print(\"Distortion coefficients: \", distCoeffs)\n",
        "print(\"Rotation matrix\", rvecs)\n",
        "print(\"Translation matrix\", tvecs)"
      ],
      "metadata": {
        "id": "Zx0fECGGg5yS",
        "outputId": "00a485d8-1b01-4bd2-e343-abd2534cc67b",
        "colab": {
          "base_uri": "https://localhost:8080/"
        }
      },
      "execution_count": null,
      "outputs": [
        {
          "output_type": "stream",
          "name": "stderr",
          "text": [
            " 33%|███▎      | 1/3 [00:01<00:03,  1.77s/it]"
          ]
        },
        {
          "output_type": "stream",
          "name": "stdout",
          "text": [
            "/content/WeTeam/Picture B.jpg : succeed to find corner\n"
          ]
        },
        {
          "output_type": "stream",
          "name": "stderr",
          "text": [
            "\r 67%|██████▋   | 2/3 [00:02<00:01,  1.19s/it]"
          ]
        },
        {
          "output_type": "stream",
          "name": "stdout",
          "text": [
            "/content/WeTeam/Picture C.jpg : succeed to find corner\n"
          ]
        },
        {
          "output_type": "stream",
          "name": "stderr",
          "text": [
            "100%|██████████| 3/3 [00:03<00:00,  1.11s/it]"
          ]
        },
        {
          "output_type": "stream",
          "name": "stdout",
          "text": [
            "/content/WeTeam/Picture A.jpg : succeed to find corner\n",
            "Re-projection error: 0.37853310989642175\n",
            "Camera matrix:  [[7.30626967e+03 0.00000000e+00 1.06023671e+03]\n",
            " [0.00000000e+00 7.27854775e+03 1.88798946e+03]\n",
            " [0.00000000e+00 0.00000000e+00 1.00000000e+00]]\n",
            "Distortion coefficients:  [[ 6.37184075e-01 -8.80035444e+00 -6.95405354e-03 -2.18551178e-02\n",
            "   6.02373199e+01]]\n",
            "Rotation matrix (array([[-0.41605973],\n",
            "       [-0.42541613],\n",
            "       [ 1.34408766]]), array([[ 0.02554528],\n",
            "       [-0.01065901],\n",
            "       [ 1.57465402]]), array([[0.60288993],\n",
            "       [0.49264253],\n",
            "       [1.65067194]]))\n",
            "Translation matrix (array([[ 3.82549111],\n",
            "       [-5.192425  ],\n",
            "       [32.09220635]]), array([[ 4.90273735],\n",
            "       [-3.75301603],\n",
            "       [25.96229948]]), array([[ 3.46940411],\n",
            "       [-2.94914161],\n",
            "       [22.82151541]]))\n"
          ]
        },
        {
          "output_type": "stream",
          "name": "stderr",
          "text": [
            "\n"
          ]
        }
      ]
    },
    {
      "cell_type": "markdown",
      "source": [
        "Optional: Distortion correction for sample images"
      ],
      "metadata": {
        "id": "3ScoVomz_1f2"
      }
    },
    {
      "cell_type": "code",
      "source": [
        "# read images\n",
        "images = glob.glob('/content/rgb_raw/DJI*.jpg')\n",
        "for fname in images: \n",
        "    targetImage = cv.imread(fname)\n",
        "    \n",
        "    # camera array\n",
        "    targetImageSize = targetImage.shape[:2][::-1]\n",
        "    alpha = 1  # 1:black\n",
        "    newKK, roiSize = cv.getOptimalNewCameraMatrix(K, distCoeffs, targetImageSize, alpha, targetImageSize)\n",
        "    \n",
        "    # distotion correct map\n",
        "    mapX, mapY = cv.initUndistortRectifyMap(K, distCoeffs, None, newKK, targetImageSize, cv.CV_32FC1)\n",
        "    \n",
        "    # distortion\n",
        "    undistortedImage1 = cv.remap(targetImage, mapX, mapY, cv.INTER_LINEAR)\n",
        "    \n",
        "    # remove black parts\n",
        "    x, y, w, h = roiSize\n",
        "    undistortedImage2 = undistortedImage1[y:y+h, x:x+w]\n",
        "    \n",
        "    # save images\n",
        "    img_name = os.path.split(fname)\n",
        "    os.makedirs('/content/undistort', exist_ok=True)\n",
        "    os.makedirs('/content/undistort_crop', exist_ok=True)\n",
        "    cv.imwrite('/content/undistort/'+ img_name[-1], undistortedImage1)\n",
        "    cv.imwrite('/content/undistort_crop/'+ img_name[-1], undistortedImage2)\n",
        "    \n",
        "    # display the result\n",
        "    print(fname + ': undistorted and cropped')"
      ],
      "metadata": {
        "colab": {
          "base_uri": "https://localhost:8080/"
        },
        "id": "UglTZ1Oe_0g3",
        "outputId": "4c8f38c0-6ee3-41df-88e6-b77c253f6b5c"
      },
      "execution_count": null,
      "outputs": [
        {
          "output_type": "stream",
          "name": "stdout",
          "text": [
            "/content/rgb_raw/DJI_0036.jpg: undistorted and cropped\n",
            "/content/rgb_raw/DJI_0042.jpg: undistorted and cropped\n",
            "/content/rgb_raw/DJI_0038.jpg: undistorted and cropped\n"
          ]
        }
      ]
    }
  ]
}