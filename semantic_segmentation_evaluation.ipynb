{
  "nbformat": 4,
  "nbformat_minor": 0,
  "metadata": {
    "colab": {
      "name": "semantic_segmentation_evaluation.ipynb",
      "provenance": [],
      "include_colab_link": true
    },
    "kernelspec": {
      "name": "python3",
      "display_name": "Python 3"
    },
    "language_info": {
      "name": "python"
    }
  },
  "cells": [
    {
      "cell_type": "markdown",
      "metadata": {
        "id": "view-in-github",
        "colab_type": "text"
      },
      "source": [
        "<a href=\"https://colab.research.google.com/github/Robinwen9909/QUANTAXIS/blob/master/semantic_segmentation_evaluation.ipynb\" target=\"_parent\"><img src=\"https://colab.research.google.com/assets/colab-badge.svg\" alt=\"Open In Colab\"/></a>"
      ]
    },
    {
      "cell_type": "markdown",
      "source": [
        "Install and import necessary packages"
      ],
      "metadata": {
        "id": "s300jWdfSV7t"
      }
    },
    {
      "cell_type": "code",
      "execution_count": 1,
      "metadata": {
        "colab": {
          "base_uri": "https://localhost:8080/"
        },
        "id": "M0BuVOq6K58X",
        "outputId": "f79b21b5-a634-4d69-9a9e-95df9a69fa12"
      },
      "outputs": [
        {
          "output_type": "stream",
          "name": "stdout",
          "text": [
            "Looking in indexes: https://pypi.org/simple, https://us-python.pkg.dev/colab-wheels/public/simple/\n",
            "Requirement already satisfied: numpy in /usr/local/lib/python3.7/dist-packages (1.21.6)\n",
            "Requirement already satisfied: opencv-python in /usr/local/lib/python3.7/dist-packages (4.6.0.66)\n",
            "Requirement already satisfied: scikit-learn in /usr/local/lib/python3.7/dist-packages (1.0.2)\n",
            "Requirement already satisfied: joblib>=0.11 in /usr/local/lib/python3.7/dist-packages (from scikit-learn) (1.1.0)\n",
            "Requirement already satisfied: scipy>=1.1.0 in /usr/local/lib/python3.7/dist-packages (from scikit-learn) (1.7.3)\n",
            "Requirement already satisfied: threadpoolctl>=2.0.0 in /usr/local/lib/python3.7/dist-packages (from scikit-learn) (3.1.0)\n"
          ]
        }
      ],
      "source": [
        "%pip install numpy opencv-python scikit-learn"
      ]
    },
    {
      "cell_type": "code",
      "source": [
        "import cv2\n",
        "import numpy as np\n",
        "from enum import Enum\n",
        "from typing import Optional\n",
        "from sklearn.metrics import confusion_matrix"
      ],
      "metadata": {
        "id": "lsvLneRNLnhu"
      },
      "execution_count": 2,
      "outputs": []
    },
    {
      "cell_type": "markdown",
      "source": [
        "Run the functions, **please don't modify anything**. "
      ],
      "metadata": {
        "id": "z4U0bJZ-Sp4u"
      }
    },
    {
      "cell_type": "code",
      "source": [
        "class ElementType(Enum):\n",
        "    COLUMN = 52\n",
        "    BRICK_WALL = 113\n",
        "    CONCRETE_WALL = 128"
      ],
      "metadata": {
        "id": "DplODJ8OLiN9"
      },
      "execution_count": 3,
      "outputs": []
    },
    {
      "cell_type": "code",
      "source": [
        "class SemanticSegmentationEvaluator:\n",
        "    def __init__(self):\n",
        "        self._element_type: Optional[ElementType] = None\n",
        "        self._img_paths: Optional[tuple[str]] = None\n",
        "        self._self_label: bool = True\n",
        "        self.pixel_classifications: Optional[tuple[int]] = None\n",
        "\n",
        "    @property\n",
        "    def element_type(self):\n",
        "        return self._element_type\n",
        "\n",
        "    @element_type.setter\n",
        "    def element_type(self, element_type: ElementType):\n",
        "        self._element_type = element_type\n",
        "\n",
        "    @property\n",
        "    def img_paths(self):\n",
        "        return self._img_paths\n",
        "\n",
        "    @img_paths.setter\n",
        "    def img_paths(self, img_paths):\n",
        "        self._img_paths = img_paths\n",
        "\n",
        "    def evaluate_semantic_segmentation(self):\n",
        "        truth_img_path, predict_img_path = self.img_paths\n",
        "        if self._self_label:\n",
        "            y_true = self.get_label_image_matrix(truth_img_path)\n",
        "        else:\n",
        "            y_true = self.get_image_matrix(truth_img_path)\n",
        "        y_predict = self.get_image_matrix(predict_img_path)\n",
        "        self.compute_pixel_classification(y_predict, y_true)\n",
        "\n",
        "    def get_image_matrix(self, img_path: str):\n",
        "        img_arr = cv2.imread(img_path, 0)\n",
        "        img_arr[img_arr != self.element_type.value] = 0\n",
        "        return img_arr.flatten()\n",
        "\n",
        "    def get_label_image_matrix(self, truth_img_path: str):\n",
        "        img_arr = cv2.imread(truth_img_path, 0)\n",
        "        values, counts = np.unique(img_arr, return_counts=True)\n",
        "        most_frequent_counts = np.argpartition(-counts, kth=2)[:2]\n",
        "        index = values[most_frequent_counts][1]\n",
        "        img_arr[img_arr != index] = 0\n",
        "        img_arr[img_arr == index] = self.element_type.value\n",
        "        return img_arr.flatten()\n",
        "\n",
        "    def compute_pixel_classification(self, y_predict, y_true):\n",
        "        c_matrix = self.compute_confusion_matrix(y_predict, y_true)\n",
        "        self.pixel_classifications = tuple(map(tuple, c_matrix))\n",
        "\n",
        "    def compute_confusion_matrix(self, y_predict, y_true):\n",
        "        y_predict = y_predict.flatten()\n",
        "        y_true = y_true.flatten()\n",
        "        c_matrix = confusion_matrix(y_true, y_predict, labels=[self.element_type.value, 0])\n",
        "        return c_matrix\n"
      ],
      "metadata": {
        "id": "YzNyzSBxLdrh"
      },
      "execution_count": 4,
      "outputs": []
    },
    {
      "cell_type": "code",
      "source": [
        "evaluator = SemanticSegmentationEvaluator()"
      ],
      "metadata": {
        "id": "374TFWA90zSc"
      },
      "execution_count": 5,
      "outputs": []
    },
    {
      "cell_type": "code",
      "source": [
        "#Optional: add your own functions here \n",
        "def compute_f1_score(TP, FN, FP, TN):\n",
        "  #write the fomula here\n",
        "  f1_score = 2*(TP/(TP+FP))*(TP/(TP+FN))/((TP/(TP+FP))+(TP/(TP+FN)))\n",
        "  #uncomment the line below when you're done with the formula\n",
        "  return f1_score \n",
        "  return\n",
        "\n",
        "def compute_IoU(TP, FN, FP, TN):\n",
        "  #write the fomula here\n",
        "  iou = TP/(TP+FP+FN)\n",
        "  #uncomment the line below when you're done with the formula\n",
        "  return iou\n",
        "  return\n",
        "\n",
        "def compute_PixAcc(TP, FN, FP, TN):\n",
        "  PA = (TP+TN)/(TP+TN+FP+FN)\n",
        "  return PA\n",
        "  return"
      ],
      "metadata": {
        "id": "yii57ahQEeGk"
      },
      "execution_count": 31,
      "outputs": []
    },
    {
      "cell_type": "markdown",
      "source": [
        "**To do:**\n",
        "Modify the image path variables below and run the cell.\n"
      ],
      "metadata": {
        "id": "oYd8xd7NTYg7"
      }
    },
    {
      "cell_type": "markdown",
      "source": [
        "***For column, run this:***"
      ],
      "metadata": {
        "id": "MHy3AP931IcS"
      }
    },
    {
      "cell_type": "code",
      "source": [
        "#change the path name here\n",
        "truth_img_path = \"/Sampledata/C_Column_Label.png\" #for labeled image\n",
        "predict_img_path = \"/Sampledata/C_SG_Pre.png\" #for predicted image\n",
        "\n",
        "#don't change anything here\n",
        "evaluator.img_paths = (truth_img_path, predict_img_path)\n",
        "evaluator.element_type = ElementType.COLUMN\n",
        "evaluator.evaluate_semantic_segmentation()\n",
        "(TP, FN), (FP, TN) = evaluator.pixel_classifications\n",
        "print(\"TP is: \", TP)\n",
        "print(\"TN is: \", TN)\n",
        "print(\"FP is: \", FP)\n",
        "print(\"FN is: \", FN)\n",
        "\n",
        "#uncomment the following code if you have written your own functions\n",
        "f1_score = compute_f1_score(TP, FN, FP, TN)\n",
        "iou = compute_IoU(TP, FN, FP, TN)\n",
        "PA = compute_PixAcc(TP, FN, FP, TN)\n",
        "print(\"f1_score is: \", f1_score)\n",
        "print(\"IoU is: \", iou)\n",
        "print(\"Pixel Accuracy is: \", PA)"
      ],
      "metadata": {
        "colab": {
          "base_uri": "https://localhost:8080/"
        },
        "id": "VYoflu4PlSAV",
        "outputId": "3132f451-8054-4ab8-937e-7aff9ae8ed33"
      },
      "execution_count": 35,
      "outputs": [
        {
          "output_type": "stream",
          "name": "stdout",
          "text": [
            "TP is:  593723\n",
            "TN is:  11371765\n",
            "FP is:  151016\n",
            "FN is:  76264\n",
            "f1_score is:  0.8393469830907186\n",
            "IoU is:  0.7231678812379492\n",
            "Pixel Accuracy is:  0.9813594419249181\n"
          ]
        }
      ]
    },
    {
      "cell_type": "markdown",
      "source": [
        "***For brick wall, run this:***"
      ],
      "metadata": {
        "id": "nq3cVZ7w25Zz"
      }
    },
    {
      "cell_type": "code",
      "source": [
        "#change the path name here\n",
        "truth_img_path = \"/Sampledata/C_Wall_Label.png\" #for labeled image\n",
        "predict_img_path = \"/Sampledata/C_SG_Pre.png\" #for predicted image\n",
        "\n",
        "#don't change anything here\n",
        "evaluator.img_paths = (truth_img_path, predict_img_path)\n",
        "evaluator.element_type = ElementType.BRICK_WALL\n",
        "evaluator.evaluate_semantic_segmentation()\n",
        "(TP, FN), (FP, TN) = evaluator.pixel_classifications\n",
        "print(\"TP is: \", TP)\n",
        "print(\"TN is: \", TN)\n",
        "print(\"FP is: \", FP)\n",
        "print(\"FN is: \", FN)\n",
        "\n",
        "#uncomment the following code if you have written your own functions\n",
        "f1_score = compute_f1_score(TP, FN, FP, TN)\n",
        "iou = compute_IoU(TP, FN, FP, TN)\n",
        "PA = compute_PixAcc(TP, FN, FP, TN)\n",
        "print(\"f1_score is: \", f1_score)\n",
        "print(\"IoU is: \", iou)\n",
        "print(\"Pixel Accuracy is: \", PA)"
      ],
      "metadata": {
        "colab": {
          "base_uri": "https://localhost:8080/"
        },
        "id": "utMJ-eKM23tE",
        "outputId": "f327cd04-1906-42fe-f466-3d7a756bece6"
      },
      "execution_count": 36,
      "outputs": [
        {
          "output_type": "stream",
          "name": "stdout",
          "text": [
            "TP is:  6058\n",
            "TN is:  8900976\n",
            "FP is:  51395\n",
            "FN is:  3234339\n",
            "f1_score is:  0.0036739087587367527\n",
            "IoU is:  0.0018403349907892114\n",
            "Pixel Accuracy is:  0.7305177954669522\n"
          ]
        }
      ]
    },
    {
      "cell_type": "markdown",
      "source": [
        "***For concrete wall, run this:***"
      ],
      "metadata": {
        "id": "5L-iOXDe3K4C"
      }
    },
    {
      "cell_type": "code",
      "source": [
        "#change the path name here\n",
        "truth_img_path = \"/Sampledata/C_Wall_Label.png\" #for labeled image\n",
        "predict_img_path = \"/Sampledata/C_SG_Pre.png\" #for predicted image\n",
        "\n",
        "#don't change anything here\n",
        "evaluator.img_paths = (truth_img_path, predict_img_path)\n",
        "evaluator.element_type = ElementType.CONCRETE_WALL\n",
        "evaluator.evaluate_semantic_segmentation()\n",
        "(TP, FN), (FP, TN) = evaluator.pixel_classifications\n",
        "print(\"TP is: \", TP)\n",
        "print(\"TN is: \", TN)\n",
        "print(\"FP is: \", FP)\n",
        "print(\"FN is: \", FN)\n",
        "\n",
        "#uncomment the following code if you have written your own functions\n",
        "f1_score = compute_f1_score(TP, FN, FP, TN)\n",
        "iou = compute_IoU(TP, FN, FP, TN)\n",
        "PA = compute_PixAcc(TP, FN, FP, TN)\n",
        "print(\"f1_score is: \", f1_score)\n",
        "print(\"IoU is: \", iou)\n",
        "print(\"Pixel Accuracy is: \", PA)"
      ],
      "metadata": {
        "colab": {
          "base_uri": "https://localhost:8080/"
        },
        "id": "zw3ZozFN3P3D",
        "outputId": "55e14855-73b2-41d9-e6f3-484a93c096ed"
      },
      "execution_count": 37,
      "outputs": [
        {
          "output_type": "stream",
          "name": "stdout",
          "text": [
            "TP is:  580831\n",
            "TN is:  4502766\n",
            "FP is:  4449605\n",
            "FN is:  2659566\n",
            "f1_score is:  0.14045284193260824\n",
            "IoU is:  0.07553066956289478\n",
            "Pixel Accuracy is:  0.41693543254493154\n"
          ]
        }
      ]
    }
  ]
}